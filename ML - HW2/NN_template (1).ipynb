{
 "cells": [
  {
   "cell_type": "markdown",
   "metadata": {},
   "source": [
    "# Assignment 2\n",
    "### The assignment is due 19 May, Friday, at 23:59.\n",
    "\n",
    "**Note:** The assignment is to be done individually. You are going to submit the **report** and **code** separately. Please do not include codes in the report. Your report should be self-contained, i.e. explain what you are doing, put the resulting graphs, the hyperparameters that you use, and write your observations.\n",
    "\n",
    "**Note:** This assignment worth 10% of overall course grade.\n",
    "\n",
    "In this assignment you are going to implement a neural network with one hidden layer. First, you\n",
    "will implement a NeuralNetwork class and then use that network to learn digits dataset.\n"
   ]
  },
  {
   "cell_type": "code",
   "execution_count": 1,
   "metadata": {},
   "outputs": [],
   "source": [
    "import numpy as np\n",
    "import random"
   ]
  },
  {
   "cell_type": "markdown",
   "metadata": {},
   "source": [
    "The function sigmoid(z) takes as an input both scalar values and vectors. So if the input is scalar then in computes sigmoid function only to that scalar and returns the result. If the input is a vector, it performs elementwise computation of sigmoid function on each element of the vector and returns a vector. The same is true for sigmoid_derivative function."
   ]
  },
  {
   "cell_type": "code",
   "execution_count": 2,
   "metadata": {},
   "outputs": [],
   "source": [
    "def sigmoid(z):\n",
    "    return 1.0/(1+np.exp(-z))"
   ]
  },
  {
   "cell_type": "code",
   "execution_count": 3,
   "metadata": {},
   "outputs": [],
   "source": [
    "def sigmoid_derivative(z):\n",
    "    return z * (1.0 - z)"
   ]
  },
  {
   "cell_type": "markdown",
   "metadata": {},
   "source": [
    "The NeuralNetwork class consists of a constructor and 4 methods:\n",
    "- fit (X,y,iterNo): trains the network, expects train data along with target variables and number of epochs\n",
    "- feedforward (x): passes a single instance through the network (forward pass)\n",
    "- backprop (x, trg): backward pass, backpropagates the error for single instance\n",
    "- predict (X): used in the inference stage for prediction of labels for test set\n",
    "\n",
    "All parts of the class except for the feedforward and backprop methods are filled. But you can introduce your changes in those parts."
   ]
  },
  {
   "cell_type": "code",
   "execution_count": 4,
   "metadata": {},
   "outputs": [],
   "source": [
    "class NeuralNetwork:\n",
    "    def __init__(self, inSize, sl2,clsSize, lrt):\n",
    "      \n",
    "        self.iSz=inSize  # input size, not counting bias\n",
    "        self.oSz=clsSize # output size, i.e. number of units in the output layer\n",
    "        self.hSz=sl2     # number of units in the hidden layer\n",
    "        \n",
    "        # Weights are initialized here\n",
    "        np.random.seed(42)\n",
    "        self.weights1   = (np.random.rand(self.hSz,self.iSz+1)-0.5)/np.sqrt(self.iSz) \n",
    "        self.weights2   = (np.random.rand(self.oSz,self.hSz+1)-0.5)/np.sqrt(self.hSz) \n",
    "        \n",
    "       \n",
    "        self.output=np.zeros(clsSize)\n",
    "        \n",
    "        self.layer1=np.zeros(self.hSz)\n",
    "        self.eta=lrt\n",
    "                \n",
    "        \n",
    "        \n",
    "    def feedforward(self, x):\n",
    "       \n",
    "    \n",
    "       # Write your code here\n",
    "        \n",
    "        \n",
    "    def backprop(self,x, trg):\n",
    "        \n",
    "           \n",
    "    \n",
    "       # Write your code here\n",
    "       \n",
    "       \n",
    "    \n",
    "        return delta1,delta2\n",
    "    \n",
    "    \n",
    "    def fit(self,X,y,iterNo):\n",
    "        \n",
    "        m=np.shape(X)[0]\n",
    "      \n",
    "        for i in range(iterNo):\n",
    "            D1=np.zeros(np.shape(self.weights1))\n",
    "            D2=np.zeros(np.shape(self.weights2))\n",
    "            for j in range(m):\n",
    "                self.feedforward(X[j])\n",
    "                yt=np.zeros(self.oSz)\n",
    "                yt[int(y[j])]=1\n",
    "                [delta1,delta2]= self.backprop(X[j],yt)\n",
    "                D1=D1+delta1\n",
    "                D2=D2+delta2\n",
    "            self.weights1= self.weights1+self.eta*(D1/m)\n",
    "            self.weights2=self.weights2+self.eta*(D2/m)\n",
    "          \n",
    "          \n",
    "        \n",
    "    def predict(self,X):\n",
    "       \n",
    "        m=np.shape(X)[0]\n",
    "        y_proba=np.zeros((m,10))\n",
    "        y=np.zeros(m)\n",
    "        for i in range(m):\n",
    "            self.feedforward(X[i])\n",
    "            y_proba[i,:]=self.output\n",
    "            y[i]=np.argmax(self.output)\n",
    "        return y, y_proba\n",
    "        "
   ]
  },
  {
   "cell_type": "markdown",
   "metadata": {},
   "source": [
    "Below we are fetching the digits dataset from sklearn toy datasets. It consists of 1797 instances (~180 samples per class) where each instance is 8x8 digit. This means that every instance is represented by 64 features. The labels (target variables) range from 0 to 9. "
   ]
  },
  {
   "cell_type": "code",
   "execution_count": 2,
   "metadata": {},
   "outputs": [
    {
     "name": "stdout",
     "output_type": "stream",
     "text": [
      "(1797, 64)\n",
      "[0 1 2 3 4 5 6 7 8 9]\n"
     ]
    }
   ],
   "source": [
    "from sklearn.datasets import load_digits\n",
    "digits = load_digits()\n",
    "print(digits.data.shape)\n",
    "(1797, 64)\n",
    "print(digits.target_names)"
   ]
  },
  {
   "cell_type": "markdown",
   "metadata": {},
   "source": [
    "We assign the data part to the X matrix and targets to y vector below"
   ]
  },
  {
   "cell_type": "code",
   "execution_count": 6,
   "metadata": {},
   "outputs": [],
   "source": [
    "X=digits.data\n",
    "y=digits.target"
   ]
  },
  {
   "cell_type": "markdown",
   "metadata": {},
   "source": [
    "To split the data we use train_test_split method below. Observe that 20% of the data is given to test set. From what is left, we take another 20% for the validation set."
   ]
  },
  {
   "cell_type": "code",
   "execution_count": 7,
   "metadata": {},
   "outputs": [],
   "source": [
    "from sklearn.model_selection import train_test_split\n",
    "X_train, Xtest, Y_train, Ytest = train_test_split(X, y, test_size=0.2, random_state=42)\n",
    "\n",
    "Xtrain, Xvalid, Ytrain, Yvalid = train_test_split(X_train, Y_train, test_size=0.2, random_state=42)"
   ]
  },
  {
   "cell_type": "code",
   "execution_count": 8,
   "metadata": {},
   "outputs": [
    {
     "name": "stdout",
     "output_type": "stream",
     "text": [
      "(1149, 64)\n",
      "(288, 64)\n",
      "(360, 64)\n"
     ]
    }
   ],
   "source": [
    "print(Xtrain.shape)\n",
    "print(Xvalid.shape)\n",
    "print(Xtest.shape)"
   ]
  },
  {
   "cell_type": "code",
   "execution_count": 9,
   "metadata": {},
   "outputs": [
    {
     "name": "stdout",
     "output_type": "stream",
     "text": [
      "[6 9 3 7 2 1 5 2 5 2 1 9 4 0 4 2 3 7 8 8 4 3 9 7 5 6 3 5 6 3 4 9 1 4 4 6 9\n",
      " 4 7 6 6 9 1 3 6 1 3 0 6 5 5 1 9 5 6 0 9 0 0 1 0 4 5 2 4 5 7 0 7 5 9 5 5 4\n",
      " 7 0 4 5 5 9 9 0 2 3 8 0 6 4 4 9 1 2 8 3 5 2 9 0 4 4 4 3 5 3 1 3 5 9 4 2 7\n",
      " 7 4 4 1 9 2 7 8 7 2 6 9 4 0 7 2 7 5 8 7 5 7 7 0 6 6 4 2 8 0 9 4 6 9 9 6 9\n",
      " 0 3 5 6 6 0 6 4 3 9 3 9 7 2 9 0 4 5 3 6 5 9 9 8 4 2 1 3 7 7 2 2 3 9 8 0 3\n",
      " 2 2 5 6 9 9 4 1 5 4 2 3 6 4 8 5 9 5 7 8 9 4 8 1 5 4 4 9 6 1 8 6 0 4 5 2 7\n",
      " 4 6 4 5 6 0 3 2 3 6 7 1 5 1 4 7 6 8 8 5 5 1 6 2 8 8 9 9 7 6 2 2 2 3 4 8 8\n",
      " 3 6 0 9 7 7 0 1 0 4 5 1 5 3 6 0 4 1 0 0 3 6 5 9 7 3 5 5 9 9 8 5 3 3 2 0 5\n",
      " 8 3 4 0 2 4 6 4 3 4 5 0 5 2 1 3 1 4 1 1 7 0 1 5 2 1 2 8 7 0 6 4 8 8 5 1 8\n",
      " 4 5 8 7 9 8 5 0 6 2 0 7 9 8 9 5 2 7 7 1 8 7 4 3 8 3 5]\n"
     ]
    }
   ],
   "source": [
    "print(Ytest)"
   ]
  },
  {
   "cell_type": "markdown",
   "metadata": {},
   "source": [
    "Now you can start training your network.\n",
    "You can create an instance of NeuralNetwork as\n",
    "nn=NeuralNetwork(#Features,#hiddenLayerUnits,#outputLayerUnits,learning rate)"
   ]
  },
  {
   "cell_type": "code",
   "execution_count": null,
   "metadata": {},
   "outputs": [],
   "source": []
  }
 ],
 "metadata": {
  "kernelspec": {
   "display_name": "Python 3 (ipykernel)",
   "language": "python",
   "name": "python3"
  },
  "language_info": {
   "codemirror_mode": {
    "name": "ipython",
    "version": 3
   },
   "file_extension": ".py",
   "mimetype": "text/x-python",
   "name": "python",
   "nbconvert_exporter": "python",
   "pygments_lexer": "ipython3",
   "version": "3.9.12"
  }
 },
 "nbformat": 4,
 "nbformat_minor": 2
}
