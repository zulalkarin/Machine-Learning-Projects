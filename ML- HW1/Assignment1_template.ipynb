{
 "cells": [
  {
   "cell_type": "markdown",
   "metadata": {},
   "source": [
    "# Assignment 1\n",
    "### The assignment is due 28 April, Friday, at 23:59.\n",
    "\n",
    "**Note:** The assignment is to be done individually. You are going to submit the **report** and **code** separately. Please do not include codes in the report. Your report should be self-contained, i.e. explain what you are doing, put the resulting graphs, the hyperparameters that you use, and write your observations.\n",
    "\n",
    "**Note:** This assignment worth 10% of overall course grade.\n",
    "\n",
    "In this assignment, you are going to work with synthetic data, i.e. the data that you generate yourselves.  You will not separate this data into train and test set. Instead see the results on the training set itself.\n"
   ]
  },
  {
   "cell_type": "code",
   "execution_count": 15,
   "metadata": {},
   "outputs": [],
   "source": [
    "import numpy as np\n",
    "import matplotlib.pyplot as plt\n",
    "import operator"
   ]
  },
  {
   "cell_type": "markdown",
   "metadata": {},
   "source": [
    "## Question 1 [25 pts]\n",
    "\n",
    "In this question you are going to generate and work with synthetic data. The main goal is to gain understanding of Linear and Polynomial Regressions. In the first question of the assignment you are free to use python models (linear regression, polynomial features, etc.)."
   ]
  },
  {
   "cell_type": "markdown",
   "metadata": {},
   "source": [
    "Generate synthetic data using a function  y=sin⁡(2πx)+ε, where m=10 (number of training examples) and ε is a random noise. You will not separate this data into train and test set. Instead see the result on the train set itself."
   ]
  },
  {
   "cell_type": "code",
   "execution_count": 16,
   "metadata": {},
   "outputs": [
    {
     "name": "stdout",
     "output_type": "stream",
     "text": [
      "[[ 0.43573072]\n",
      " [ 0.51135514]\n",
      " [ 1.71536144]\n",
      " [ 1.17012248]\n",
      " [ 0.77372951]\n",
      " [ 0.58864379]\n",
      " [ 1.17235508]\n",
      " [-0.84246789]\n",
      " [-0.21542931]\n",
      " [-2.2690638 ]]\n"
     ]
    },
    {
     "data": {
      "image/png": "[encoded data removed]",
      "text/plain": [
       "<Figure size 432x288 with 1 Axes>"
      ]
     },
     "metadata": {
      "needs_background": "light"
     },
     "output_type": "display_data"
    }
   ],
   "source": [
    "\n",
    "m=10;\n",
    "X=np.random.rand(m,1)*2\n",
    "y = np.sin(2*np.pi*X)+np.random.randn(m,1)\n",
    "# You can use print to see what is X\n",
    "print(y)    \n",
    "plt.plot(X,y,\"r.\")\n",
    "plt.show()"
   ]
  },
  {
   "cell_type": "markdown",
   "metadata": {},
   "source": [
    "### Question1 (a) [15 pts]\n",
    "Apply d-order polynomial model to the data set where d=0,1,3,9 (you can use PolynomialFeatures and LinearRegression class of Scikit). Plot on the same figure the data and the curves resulting from your fit for various d (0,1,3,9) values. Comment on the results for various d."
   ]
  },
  {
   "cell_type": "code",
   "execution_count": 17,
   "metadata": {},
   "outputs": [],
   "source": [
    "from sklearn.preprocessing import PolynomialFeatures\n",
    "from sklearn.linear_model import LinearRegression\n",
    "lin_reg=LinearRegression()\n",
    "\n",
    "\n",
    "\n",
    "#   Write your code here\n",
    "\n",
    "\n"
   ]
  },
  {
   "cell_type": "markdown",
   "metadata": {},
   "source": [
    "Plot the result in one graph. Below you can find an example of plotting the curve that fit your data with d=3."
   ]
  },
  {
   "cell_type": "code",
   "execution_count": 18,
   "metadata": {},
   "outputs": [
    {
     "data": {
      "image/png": "[encoded data removed]",
      "text/plain": [
       "<Figure size 432x288 with 1 Axes>"
      ]
     },
     "metadata": {
      "needs_background": "light"
     },
     "output_type": "display_data"
    }
   ],
   "source": [
    "plt.plot(X,y,\"r.\")\n",
    "\n",
    "\n",
    "sorted_zip = sorted(zip(X,y_predict3))\n",
    "X3, y_predict3 = zip(*sorted_zip)\n",
    "plt.plot(X3, y_predict3, color='k')\n",
    "\n",
    "plt.show()"
   ]
  },
  {
   "cell_type": "markdown",
   "metadata": {},
   "source": [
    "### Question 1 (b) [10 pts]\n",
    "Increase the number of training examples to m=100. Repeat the steps done in (I). Comment briefly on what changed with the increase of m. What problems you encountered with large d in previous case? Is it resolved with m=100? Can you derive any conclusions from the results with increased number of samples?"
   ]
  },
  {
   "cell_type": "markdown",
   "metadata": {},
   "source": [
    "## Question 2 [25 pts]\n",
    "Generate synthetic data using a function y=100+3x+ε, where m=100 (number of training examples) and ε is a random noise\n"
   ]
  },
  {
   "cell_type": "code",
   "execution_count": 19,
   "metadata": {},
   "outputs": [
    {
     "data": {
      "text/plain": [
       "[<matplotlib.lines.Line2D at 0x221d03824c8>]"
      ]
     },
     "execution_count": 19,
     "metadata": {},
     "output_type": "execute_result"
    },
    {
     "data": {
      "image/png": "[encoded data removed]",
      "text/plain": [
       "<Figure size 432x288 with 1 Axes>"
      ]
     },
     "metadata": {
      "needs_background": "light"
     },
     "output_type": "display_data"
    }
   ],
   "source": [
    "m=100;\n",
    "X=np.random.rand(m,1)\n",
    "y=100+3*X+np.random.randn(m,1)\n",
    "plt.plot(X,y,'r.')\n"
   ]
  },
  {
   "cell_type": "markdown",
   "metadata": {},
   "source": [
    "### Question 2 (a) [15 pts]\n",
    "\n",
    "Implement linear regression (y=θ^T x) on this dataset using batch gradient descent. You are expected to write a separate function for linear regression that is expected to return thetas (parameters): \n",
    "theta= linear_regression(X, y, iterNo, eta); \n",
    "where, X is a matrix of features, y is target variables vector, iterNo is number of iterations and eta is learning rate. You can set eta=0.1, and iterNo=1000;\n",
    "\n",
    "Plot on the same figure the data and the straight line resulting from your fit. (Remember to include the intercept term). Give the function that was fit to your data (in other words give your hypothesis).\n"
   ]
  },
  {
   "cell_type": "code",
   "execution_count": 28,
   "metadata": {},
   "outputs": [],
   "source": [
    "def linear_regression(X,y,iterNo,eta):\n",
    "   \n",
    "    m = np.shape(X)[0]          # Number of training samples\n",
    "    X = np.c_[np.ones((m,1)),X] # Adding intercept term to the data\n",
    "    n = np.shape(X)[1]          # Number of features\n",
    "     \n",
    "    #  Write your code here \n",
    "    \n",
    "    \n",
    "    return theta,MSE"
   ]
  },
  {
   "cell_type": "code",
   "execution_count": 29,
   "metadata": {},
   "outputs": [],
   "source": [
    "theta, MSE=linear_regression(X,y, 1000,0.1)"
   ]
  },
  {
   "cell_type": "code",
   "execution_count": 30,
   "metadata": {},
   "outputs": [
    {
     "data": {
      "text/plain": [
       "array([[100.21186249],\n",
       "       [  2.73327357]])"
      ]
     },
     "execution_count": 30,
     "metadata": {},
     "output_type": "execute_result"
    }
   ],
   "source": [
    "theta"
   ]
  },
  {
   "cell_type": "code",
   "execution_count": 25,
   "metadata": {},
   "outputs": [],
   "source": [
    "X_b = np.c_[np.ones((m,1)),X]\n",
    "y_predict=X_b.dot(theta);"
   ]
  },
  {
   "cell_type": "code",
   "execution_count": 26,
   "metadata": {},
   "outputs": [
    {
     "data": {
      "image/png": "[encoded data removed]",
      "text/plain": [
       "<Figure size 432x288 with 1 Axes>"
      ]
     },
     "metadata": {
      "needs_background": "light"
     },
     "output_type": "display_data"
    }
   ],
   "source": [
    "plt.plot(X,y,\"r.\")\n",
    "plt.plot(X,y_predict,\"b-\")\n",
    "plt.show()"
   ]
  },
  {
   "cell_type": "markdown",
   "metadata": {},
   "source": [
    "### Question 2 (b)  [10 pts]\n",
    "\n",
    "Include to your linear_regression function statements that compute MSE for each iteration. Then update the return parameters so that the function also returns MSEs for every iteration. Plot the results for eta=0.1. Then try linear regression for eta=0.001, 0.01 and 0.5, while keeping iterNo fixed to 1000. Plot the results for every eta and also report on the hypothesis function that it learns for every eta. Discuss briefly on the results."
   ]
  },
  {
   "cell_type": "code",
   "execution_count": 31,
   "metadata": {},
   "outputs": [
    {
     "data": {
      "image/png": "[encoded data removed]",
      "text/plain": [
       "<Figure size 432x288 with 1 Axes>"
      ]
     },
     "metadata": {
      "needs_background": "light"
     },
     "output_type": "display_data"
    }
   ],
   "source": [
    "iterNo=np.arange(1000)\n",
    "plt.plot(iterNo,MSE)\n",
    "plt.show()\n"
   ]
  },
  {
   "cell_type": "markdown",
   "metadata": {},
   "source": [
    "## Question 3 [ 50pts] \n",
    "\n",
    "#### Locally Weighted Linear Regression\n",
    "In this part of the assignment you are going to implement locally weighted linear regression. Generate synthetic data using a function  y=sin⁡(2πx)+ε, where m=100 (number of training examples) and ε is a random noise.\n",
    "\n"
   ]
  },
  {
   "cell_type": "code",
   "execution_count": 39,
   "metadata": {},
   "outputs": [
    {
     "data": {
      "text/plain": [
       "[<matplotlib.lines.Line2D at 0x221d02d4888>]"
      ]
     },
     "execution_count": 39,
     "metadata": {},
     "output_type": "execute_result"
    },
    {
     "data": {
      "image/png": "[encoded data removed]",
      "text/plain": [
       "<Figure size 432x288 with 1 Axes>"
      ]
     },
     "metadata": {
      "needs_background": "light"
     },
     "output_type": "display_data"
    }
   ],
   "source": [
    "m=100;\n",
    "X=np.random.rand(m,1)*2\n",
    "y = np.sin(2*np.pi*X)+np.random.randn(m,1)\n",
    "plt.plot(X,y,'r.')"
   ]
  },
  {
   "attachments": {
    "image.png": {
     "image/png": "[encoded data removed]"
    }
   },
   "cell_type": "markdown",
   "metadata": {},
   "source": [
    "### Question 3 (a) [30 pts]\n",
    "\n",
    "Update the linear regression function that you implemented in (2) so that local weights are also considered in taking the gradient of a cost function. The function should have the following header:\n",
    "theta= weighted_linear_regression(X, Y, iteration_cnt, eta, x, tau)\n",
    "where x is a query point, tau is bandwidth parameter.\n",
    "Use eta=0.4 and iterNo=100. \n",
    "When evaluating h(·) at a query point x, use weights\n",
    "![image.png](attachment:image.png)\n",
    "\n",
    "Below you can find a computeWeights function that computes thw weights of all samples in X with respect to the query sample testx. With a bandwidth parameter τ=0.1. (Again, remember to include intercept term). Plot on the same figure the data and the curve resulting from your fit."
   ]
  },
  {
   "cell_type": "code",
   "execution_count": 40,
   "metadata": {},
   "outputs": [],
   "source": [
    "def computeWeights(X,testx,tau):\n",
    "    weights=np.exp(-((X-testx)*(X-testx))/(2*tau**2))\n",
    "    return weights"
   ]
  },
  {
   "cell_type": "code",
   "execution_count": 41,
   "metadata": {},
   "outputs": [],
   "source": [
    "def weighted_linear_regression(X,y,iterNo,testx,eta,tau):\n",
    "   \n",
    "    \n",
    "    # Write your code here \n",
    "        \n",
    "    return theta"
   ]
  },
  {
   "cell_type": "markdown",
   "metadata": {},
   "source": [
    "**Note:** The query samples are the samples coming from training set itself. Since you have 100 samples in your training set you will call weighted_linear_regression 100 times, each time selecting one of the samples from your training set. \n",
    "Below you can find a code that is calling weighted_linear_regression m times. "
   ]
  },
  {
   "cell_type": "code",
   "execution_count": 42,
   "metadata": {},
   "outputs": [],
   "source": [
    "eta=0.4\n",
    "tau = 0.1\n",
    "iteration_cnt = 100\n",
    "y1_predict =np.zeros((m,1))\n",
    "i=0\n",
    "for x in X:\n",
    "    theta = weighted_linear_regression(X, y, iteration_cnt, x, eta, tau)\n",
    "    xt=np.c_[1,x]\n",
    "    pred=xt.dot(theta)\n",
    "    y1_predict[i]=pred\n",
    "    i=i+1\n",
    "    \n"
   ]
  },
  {
   "cell_type": "code",
   "execution_count": 43,
   "metadata": {
    "scrolled": true
   },
   "outputs": [
    {
     "data": {
      "image/png": "[encoded data removed]",
      "text/plain": [
       "<Figure size 432x288 with 1 Axes>"
      ]
     },
     "metadata": {
      "needs_background": "light"
     },
     "output_type": "display_data"
    }
   ],
   "source": [
    "\n",
    "plt.plot(X, y, \"b.\") # These are original points that will occur as a blue dot\n",
    "\n",
    "sorted_zip = sorted(zip(X,y1_predict)) # Want to sort according to X\n",
    "X, y1_predict = zip(*sorted_zip)   # y1_predict is my predicted y, X is the original X I obtained via X=np.random.rand(m,1)*2\n",
    "plt.plot(X, y1_predict, color='m')\n",
    "plt.show()"
   ]
  },
  {
   "cell_type": "markdown",
   "metadata": {},
   "source": [
    "### Question 3 [20 pts]\n",
    "Repeat (a) five times with τ=0.001,0.01,0.3 ,1 and 10. Comment briefly on what happens to the fit when τ is too small or too large. Given the fixed parameters for learning rate and number of iterations as above, what is the best tau to fit your synthetic data?"
   ]
  },
  {
   "cell_type": "code",
   "execution_count": null,
   "metadata": {},
   "outputs": [],
   "source": []
  }
 ],
 "metadata": {
  "kernelspec": {
   "display_name": "Python 3",
   "language": "python",
   "name": "python3"
  },
  "language_info": {
   "codemirror_mode": {
    "name": "ipython",
    "version": 3
   },
   "file_extension": ".py",
   "mimetype": "text/x-python",
   "name": "python",
   "nbconvert_exporter": "python",
   "pygments_lexer": "ipython3",
   "version": "3.7.1"
  }
 },
 "nbformat": 4,
 "nbformat_minor": 5
}
